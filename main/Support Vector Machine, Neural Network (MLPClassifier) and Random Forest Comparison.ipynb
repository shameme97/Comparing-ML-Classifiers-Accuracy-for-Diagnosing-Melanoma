{
 "cells": [
  {
   "cell_type": "markdown",
   "id": "58a9d327",
   "metadata": {},
   "source": [
    "# 1) Preprocessing"
   ]
  },
  {
   "cell_type": "markdown",
   "id": "89382bfe",
   "metadata": {},
   "source": [
    "## Load dataset"
   ]
  },
  {
   "cell_type": "code",
   "execution_count": 123,
   "id": "0a0491ae",
   "metadata": {},
   "outputs": [],
   "source": [
    "import pandas as pd\n",
    "import numpy as np\n",
    "\n",
    "melanoma_records = pd.read_csv('Melanoma TFRecords 256x256.csv') # loaded as dataframe"
   ]
  },
  {
   "cell_type": "markdown",
   "id": "acbc4e95",
   "metadata": {},
   "source": [
    "## Handle missing values"
   ]
  },
  {
   "cell_type": "code",
   "execution_count": 124,
   "id": "4fbe503e",
   "metadata": {},
   "outputs": [
    {
     "data": {
      "text/plain": [
       "image_name                        0\n",
       "patient_id                        0\n",
       "sex                              65\n",
       "age_approx                       65\n",
       "anatom_site_general_challenge     0\n",
       "diagnosis                         0\n",
       "benign_malignant                  0\n",
       "target                            0\n",
       "tfrecord                          0\n",
       "width                             0\n",
       "height                            0\n",
       "patient_code                      0\n",
       "dtype: int64"
      ]
     },
     "execution_count": 124,
     "metadata": {},
     "output_type": "execute_result"
    }
   ],
   "source": [
    "null_sex = melanoma_records[melanoma_records['sex'].isnull()]\n",
    "null_sex.isnull().sum() "
   ]
  },
  {
   "cell_type": "markdown",
   "id": "1a7f2b79",
   "metadata": {},
   "source": [
    "#### We see that all null values of sex have null ages too. Age and sex are necessary factors for melanoma diagnosis. \n",
    "#### Hence, dropping all rows with null sex values."
   ]
  },
  {
   "cell_type": "code",
   "execution_count": 125,
   "id": "d8fd8239",
   "metadata": {},
   "outputs": [
    {
     "data": {
      "text/plain": [
       "image_name                         0\n",
       "patient_id                         0\n",
       "sex                                0\n",
       "age_approx                         3\n",
       "anatom_site_general_challenge    527\n",
       "diagnosis                          0\n",
       "benign_malignant                   0\n",
       "target                             0\n",
       "tfrecord                           0\n",
       "width                              0\n",
       "height                             0\n",
       "patient_code                       0\n",
       "dtype: int64"
      ]
     },
     "execution_count": 125,
     "metadata": {},
     "output_type": "execute_result"
    }
   ],
   "source": [
    "melanoma_records = melanoma_records[melanoma_records['sex'].notnull()]\n",
    "melanoma_records.isnull().sum() "
   ]
  },
  {
   "cell_type": "code",
   "execution_count": 126,
   "id": "5fe6d88e",
   "metadata": {},
   "outputs": [
    {
     "data": {
      "text/plain": [
       "image_name                         0\n",
       "patient_id                         0\n",
       "sex                                0\n",
       "age_approx                         3\n",
       "anatom_site_general_challenge    235\n",
       "diagnosis                          0\n",
       "benign_malignant                   0\n",
       "target                             0\n",
       "tfrecord                           0\n",
       "width                              0\n",
       "height                             0\n",
       "patient_code                       0\n",
       "dtype: int64"
      ]
     },
     "execution_count": 126,
     "metadata": {},
     "output_type": "execute_result"
    }
   ],
   "source": [
    "# we see now only 3 rows have null age\n",
    "\n",
    "male = melanoma_records[melanoma_records['sex']=='male']\n",
    "female = melanoma_records[melanoma_records['sex']=='female']\n",
    "# male.isnull().sum()\n",
    "female.isnull().sum() "
   ]
  },
  {
   "cell_type": "code",
   "execution_count": 127,
   "id": "45a766fc",
   "metadata": {},
   "outputs": [],
   "source": [
    "from sklearn.impute import SimpleImputer\n",
    "\n",
    "# as all 3 null ages belong to female, we fill them with average value of female ages\n",
    "\n",
    "impute = SimpleImputer(missing_values=np.nan, strategy='mean')\n",
    "\n",
    "impute.fit(female[['age_approx']])\n",
    "\n",
    "melanoma_records['age_approx'] = impute.transform(melanoma_records[['age_approx']])"
   ]
  },
  {
   "cell_type": "markdown",
   "id": "f8663b5a",
   "metadata": {},
   "source": [
    "## Encoding"
   ]
  },
  {
   "cell_type": "code",
   "execution_count": 128,
   "id": "e012c189",
   "metadata": {},
   "outputs": [
    {
     "data": {
      "text/plain": [
       "array(['male', 'female'], dtype=object)"
      ]
     },
     "execution_count": 128,
     "metadata": {},
     "output_type": "execute_result"
    }
   ],
   "source": [
    "melanoma_records['sex'].unique()"
   ]
  },
  {
   "cell_type": "code",
   "execution_count": 129,
   "id": "0d7b6e48",
   "metadata": {},
   "outputs": [],
   "source": [
    "# Encoding sex as male-->0 and female-->1\n",
    "\n",
    "if not isinstance(melanoma_records['sex'][0], (int, np.integer)):\n",
    "    melanoma_records['sex'] = melanoma_records['sex'].map({'male':0,'female':1}) "
   ]
  },
  {
   "cell_type": "code",
   "execution_count": 130,
   "id": "3bc4f511",
   "metadata": {},
   "outputs": [
    {
     "data": {
      "text/plain": [
       "array(['head/neck', 'upper extremity', 'lower extremity', 'torso', nan,\n",
       "       'palms/soles', 'oral/genital'], dtype=object)"
      ]
     },
     "execution_count": 130,
     "metadata": {},
     "output_type": "execute_result"
    }
   ],
   "source": [
    "melanoma_records['anatom_site_general_challenge'].unique()"
   ]
  },
  {
   "cell_type": "code",
   "execution_count": 131,
   "id": "d35ec425",
   "metadata": {},
   "outputs": [],
   "source": [
    "from sklearn.preprocessing import LabelEncoder\n",
    "\n",
    "# # encoding anatom_site_general_challenge \n",
    "# using one-hot encoding\n",
    "\n",
    "anatom_site_general_challenge_enc = pd.get_dummies(melanoma_records['anatom_site_general_challenge'])\n",
    "melanoma_records = pd.concat([melanoma_records, anatom_site_general_challenge_enc], axis=1)"
   ]
  },
  {
   "cell_type": "code",
   "execution_count": 132,
   "id": "549a7055",
   "metadata": {},
   "outputs": [
    {
     "data": {
      "text/plain": [
       "array(['unknown', 'nevus', 'melanoma', 'seborrheic keratosis',\n",
       "       'lentigo NOS', 'lichenoid keratosis', 'solar lentigo',\n",
       "       'cafe-au-lait macule', 'atypical melanocytic proliferation'],\n",
       "      dtype=object)"
      ]
     },
     "execution_count": 132,
     "metadata": {},
     "output_type": "execute_result"
    }
   ],
   "source": [
    "melanoma_records['diagnosis'].unique()"
   ]
  },
  {
   "cell_type": "code",
   "execution_count": 133,
   "id": "227bded1",
   "metadata": {},
   "outputs": [],
   "source": [
    "# encoding diagnosis \n",
    "\n",
    "if not isinstance(melanoma_records['diagnosis'][0], (int, np.integer)):\n",
    "    melanoma_records['diagnosis'] = melanoma_records['diagnosis'].map({'unknown': 0, 'nevus': 1, 'melanoma':2, \n",
    "        'seborrheic keratosis':3, 'lentigo NOS':4, 'lichenoid keratosis':5, 'solar lentigo':6,\n",
    "        'cafe-au-lait macule':7, 'atypical melanocytic proliferation':8}) "
   ]
  },
  {
   "cell_type": "code",
   "execution_count": 134,
   "id": "48a9091e",
   "metadata": {},
   "outputs": [
    {
     "data": {
      "text/plain": [
       "array(['benign', 'malignant'], dtype=object)"
      ]
     },
     "execution_count": 134,
     "metadata": {},
     "output_type": "execute_result"
    }
   ],
   "source": [
    "melanoma_records['benign_malignant'].unique()"
   ]
  },
  {
   "cell_type": "code",
   "execution_count": 135,
   "id": "b0ffb846",
   "metadata": {
    "scrolled": true
   },
   "outputs": [],
   "source": [
    "# encoding benign_malignant with values --> 0,1\n",
    "\n",
    "enc = LabelEncoder()\n",
    "melanoma_records['benign_malignant'] = enc.fit_transform(melanoma_records['benign_malignant'])"
   ]
  },
  {
   "cell_type": "code",
   "execution_count": 136,
   "id": "554934d6",
   "metadata": {},
   "outputs": [
    {
     "data": {
      "text/html": [
       "<div>\n",
       "<style scoped>\n",
       "    .dataframe tbody tr th:only-of-type {\n",
       "        vertical-align: middle;\n",
       "    }\n",
       "\n",
       "    .dataframe tbody tr th {\n",
       "        vertical-align: top;\n",
       "    }\n",
       "\n",
       "    .dataframe thead th {\n",
       "        text-align: right;\n",
       "    }\n",
       "</style>\n",
       "<table border=\"1\" class=\"dataframe\">\n",
       "  <thead>\n",
       "    <tr style=\"text-align: right;\">\n",
       "      <th></th>\n",
       "      <th>image_name</th>\n",
       "      <th>patient_id</th>\n",
       "      <th>sex</th>\n",
       "      <th>age_approx</th>\n",
       "      <th>anatom_site_general_challenge</th>\n",
       "      <th>diagnosis</th>\n",
       "      <th>benign_malignant</th>\n",
       "      <th>target</th>\n",
       "      <th>tfrecord</th>\n",
       "      <th>width</th>\n",
       "      <th>height</th>\n",
       "      <th>patient_code</th>\n",
       "      <th>head/neck</th>\n",
       "      <th>lower extremity</th>\n",
       "      <th>oral/genital</th>\n",
       "      <th>palms/soles</th>\n",
       "      <th>torso</th>\n",
       "      <th>upper extremity</th>\n",
       "    </tr>\n",
       "  </thead>\n",
       "  <tbody>\n",
       "    <tr>\n",
       "      <th>0</th>\n",
       "      <td>ISIC_2637011</td>\n",
       "      <td>IP_7279968</td>\n",
       "      <td>0</td>\n",
       "      <td>45.0</td>\n",
       "      <td>head/neck</td>\n",
       "      <td>0</td>\n",
       "      <td>0</td>\n",
       "      <td>0</td>\n",
       "      <td>0</td>\n",
       "      <td>6000</td>\n",
       "      <td>4000</td>\n",
       "      <td>0</td>\n",
       "      <td>1</td>\n",
       "      <td>0</td>\n",
       "      <td>0</td>\n",
       "      <td>0</td>\n",
       "      <td>0</td>\n",
       "      <td>0</td>\n",
       "    </tr>\n",
       "    <tr>\n",
       "      <th>1</th>\n",
       "      <td>ISIC_0015719</td>\n",
       "      <td>IP_3075186</td>\n",
       "      <td>1</td>\n",
       "      <td>45.0</td>\n",
       "      <td>upper extremity</td>\n",
       "      <td>0</td>\n",
       "      <td>0</td>\n",
       "      <td>0</td>\n",
       "      <td>0</td>\n",
       "      <td>6000</td>\n",
       "      <td>4000</td>\n",
       "      <td>1</td>\n",
       "      <td>0</td>\n",
       "      <td>0</td>\n",
       "      <td>0</td>\n",
       "      <td>0</td>\n",
       "      <td>0</td>\n",
       "      <td>1</td>\n",
       "    </tr>\n",
       "    <tr>\n",
       "      <th>2</th>\n",
       "      <td>ISIC_0052212</td>\n",
       "      <td>IP_2842074</td>\n",
       "      <td>1</td>\n",
       "      <td>50.0</td>\n",
       "      <td>lower extremity</td>\n",
       "      <td>1</td>\n",
       "      <td>0</td>\n",
       "      <td>0</td>\n",
       "      <td>6</td>\n",
       "      <td>1872</td>\n",
       "      <td>1053</td>\n",
       "      <td>2</td>\n",
       "      <td>0</td>\n",
       "      <td>1</td>\n",
       "      <td>0</td>\n",
       "      <td>0</td>\n",
       "      <td>0</td>\n",
       "      <td>0</td>\n",
       "    </tr>\n",
       "    <tr>\n",
       "      <th>3</th>\n",
       "      <td>ISIC_0068279</td>\n",
       "      <td>IP_6890425</td>\n",
       "      <td>1</td>\n",
       "      <td>45.0</td>\n",
       "      <td>head/neck</td>\n",
       "      <td>0</td>\n",
       "      <td>0</td>\n",
       "      <td>0</td>\n",
       "      <td>0</td>\n",
       "      <td>1872</td>\n",
       "      <td>1053</td>\n",
       "      <td>3</td>\n",
       "      <td>1</td>\n",
       "      <td>0</td>\n",
       "      <td>0</td>\n",
       "      <td>0</td>\n",
       "      <td>0</td>\n",
       "      <td>0</td>\n",
       "    </tr>\n",
       "    <tr>\n",
       "      <th>4</th>\n",
       "      <td>ISIC_0074268</td>\n",
       "      <td>IP_8723313</td>\n",
       "      <td>1</td>\n",
       "      <td>55.0</td>\n",
       "      <td>upper extremity</td>\n",
       "      <td>0</td>\n",
       "      <td>0</td>\n",
       "      <td>0</td>\n",
       "      <td>11</td>\n",
       "      <td>6000</td>\n",
       "      <td>4000</td>\n",
       "      <td>4</td>\n",
       "      <td>0</td>\n",
       "      <td>0</td>\n",
       "      <td>0</td>\n",
       "      <td>0</td>\n",
       "      <td>0</td>\n",
       "      <td>1</td>\n",
       "    </tr>\n",
       "  </tbody>\n",
       "</table>\n",
       "</div>"
      ],
      "text/plain": [
       "     image_name  patient_id  sex  age_approx anatom_site_general_challenge  \\\n",
       "0  ISIC_2637011  IP_7279968    0        45.0                     head/neck   \n",
       "1  ISIC_0015719  IP_3075186    1        45.0               upper extremity   \n",
       "2  ISIC_0052212  IP_2842074    1        50.0               lower extremity   \n",
       "3  ISIC_0068279  IP_6890425    1        45.0                     head/neck   \n",
       "4  ISIC_0074268  IP_8723313    1        55.0               upper extremity   \n",
       "\n",
       "   diagnosis  benign_malignant  target  tfrecord  width  height  patient_code  \\\n",
       "0          0                 0       0         0   6000    4000             0   \n",
       "1          0                 0       0         0   6000    4000             1   \n",
       "2          1                 0       0         6   1872    1053             2   \n",
       "3          0                 0       0         0   1872    1053             3   \n",
       "4          0                 0       0        11   6000    4000             4   \n",
       "\n",
       "   head/neck  lower extremity  oral/genital  palms/soles  torso  \\\n",
       "0          1                0             0            0      0   \n",
       "1          0                0             0            0      0   \n",
       "2          0                1             0            0      0   \n",
       "3          1                0             0            0      0   \n",
       "4          0                0             0            0      0   \n",
       "\n",
       "   upper extremity  \n",
       "0                0  \n",
       "1                1  \n",
       "2                0  \n",
       "3                0  \n",
       "4                1  "
      ]
     },
     "execution_count": 136,
     "metadata": {},
     "output_type": "execute_result"
    }
   ],
   "source": [
    "melanoma_records.head()"
   ]
  },
  {
   "cell_type": "markdown",
   "id": "cb2b487d",
   "metadata": {},
   "source": [
    "## Scaling"
   ]
  },
  {
   "cell_type": "code",
   "execution_count": 137,
   "id": "59065de0",
   "metadata": {},
   "outputs": [
    {
     "data": {
      "text/html": [
       "<div>\n",
       "<style scoped>\n",
       "    .dataframe tbody tr th:only-of-type {\n",
       "        vertical-align: middle;\n",
       "    }\n",
       "\n",
       "    .dataframe tbody tr th {\n",
       "        vertical-align: top;\n",
       "    }\n",
       "\n",
       "    .dataframe thead th {\n",
       "        text-align: right;\n",
       "    }\n",
       "</style>\n",
       "<table border=\"1\" class=\"dataframe\">\n",
       "  <thead>\n",
       "    <tr style=\"text-align: right;\">\n",
       "      <th></th>\n",
       "      <th>image_name</th>\n",
       "      <th>patient_id</th>\n",
       "      <th>sex</th>\n",
       "      <th>age_approx</th>\n",
       "      <th>anatom_site_general_challenge</th>\n",
       "      <th>diagnosis</th>\n",
       "      <th>benign_malignant</th>\n",
       "      <th>target</th>\n",
       "      <th>tfrecord</th>\n",
       "      <th>width</th>\n",
       "      <th>height</th>\n",
       "      <th>patient_code</th>\n",
       "      <th>head/neck</th>\n",
       "      <th>lower extremity</th>\n",
       "      <th>oral/genital</th>\n",
       "      <th>palms/soles</th>\n",
       "      <th>torso</th>\n",
       "      <th>upper extremity</th>\n",
       "    </tr>\n",
       "  </thead>\n",
       "  <tbody>\n",
       "    <tr>\n",
       "      <th>0</th>\n",
       "      <td>ISIC_2637011</td>\n",
       "      <td>IP_7279968</td>\n",
       "      <td>0</td>\n",
       "      <td>0.500000</td>\n",
       "      <td>head/neck</td>\n",
       "      <td>0</td>\n",
       "      <td>0</td>\n",
       "      <td>0</td>\n",
       "      <td>0.066667</td>\n",
       "      <td>1.000000</td>\n",
       "      <td>0.637681</td>\n",
       "      <td>0.000000</td>\n",
       "      <td>1</td>\n",
       "      <td>0</td>\n",
       "      <td>0</td>\n",
       "      <td>0</td>\n",
       "      <td>0</td>\n",
       "      <td>0</td>\n",
       "    </tr>\n",
       "    <tr>\n",
       "      <th>1</th>\n",
       "      <td>ISIC_0015719</td>\n",
       "      <td>IP_3075186</td>\n",
       "      <td>1</td>\n",
       "      <td>0.500000</td>\n",
       "      <td>upper extremity</td>\n",
       "      <td>0</td>\n",
       "      <td>0</td>\n",
       "      <td>0</td>\n",
       "      <td>0.066667</td>\n",
       "      <td>1.000000</td>\n",
       "      <td>0.637681</td>\n",
       "      <td>0.000487</td>\n",
       "      <td>0</td>\n",
       "      <td>0</td>\n",
       "      <td>0</td>\n",
       "      <td>0</td>\n",
       "      <td>0</td>\n",
       "      <td>1</td>\n",
       "    </tr>\n",
       "    <tr>\n",
       "      <th>2</th>\n",
       "      <td>ISIC_0052212</td>\n",
       "      <td>IP_2842074</td>\n",
       "      <td>1</td>\n",
       "      <td>0.555556</td>\n",
       "      <td>lower extremity</td>\n",
       "      <td>1</td>\n",
       "      <td>0</td>\n",
       "      <td>0</td>\n",
       "      <td>0.466667</td>\n",
       "      <td>0.229851</td>\n",
       "      <td>0.103804</td>\n",
       "      <td>0.000973</td>\n",
       "      <td>0</td>\n",
       "      <td>1</td>\n",
       "      <td>0</td>\n",
       "      <td>0</td>\n",
       "      <td>0</td>\n",
       "      <td>0</td>\n",
       "    </tr>\n",
       "    <tr>\n",
       "      <th>3</th>\n",
       "      <td>ISIC_0068279</td>\n",
       "      <td>IP_6890425</td>\n",
       "      <td>1</td>\n",
       "      <td>0.500000</td>\n",
       "      <td>head/neck</td>\n",
       "      <td>0</td>\n",
       "      <td>0</td>\n",
       "      <td>0</td>\n",
       "      <td>0.066667</td>\n",
       "      <td>0.229851</td>\n",
       "      <td>0.103804</td>\n",
       "      <td>0.001460</td>\n",
       "      <td>1</td>\n",
       "      <td>0</td>\n",
       "      <td>0</td>\n",
       "      <td>0</td>\n",
       "      <td>0</td>\n",
       "      <td>0</td>\n",
       "    </tr>\n",
       "    <tr>\n",
       "      <th>4</th>\n",
       "      <td>ISIC_0074268</td>\n",
       "      <td>IP_8723313</td>\n",
       "      <td>1</td>\n",
       "      <td>0.611111</td>\n",
       "      <td>upper extremity</td>\n",
       "      <td>0</td>\n",
       "      <td>0</td>\n",
       "      <td>0</td>\n",
       "      <td>0.800000</td>\n",
       "      <td>1.000000</td>\n",
       "      <td>0.637681</td>\n",
       "      <td>0.001946</td>\n",
       "      <td>0</td>\n",
       "      <td>0</td>\n",
       "      <td>0</td>\n",
       "      <td>0</td>\n",
       "      <td>0</td>\n",
       "      <td>1</td>\n",
       "    </tr>\n",
       "  </tbody>\n",
       "</table>\n",
       "</div>"
      ],
      "text/plain": [
       "     image_name  patient_id  sex  age_approx anatom_site_general_challenge  \\\n",
       "0  ISIC_2637011  IP_7279968    0    0.500000                     head/neck   \n",
       "1  ISIC_0015719  IP_3075186    1    0.500000               upper extremity   \n",
       "2  ISIC_0052212  IP_2842074    1    0.555556               lower extremity   \n",
       "3  ISIC_0068279  IP_6890425    1    0.500000                     head/neck   \n",
       "4  ISIC_0074268  IP_8723313    1    0.611111               upper extremity   \n",
       "\n",
       "   diagnosis  benign_malignant  target  tfrecord     width    height  \\\n",
       "0          0                 0       0  0.066667  1.000000  0.637681   \n",
       "1          0                 0       0  0.066667  1.000000  0.637681   \n",
       "2          1                 0       0  0.466667  0.229851  0.103804   \n",
       "3          0                 0       0  0.066667  0.229851  0.103804   \n",
       "4          0                 0       0  0.800000  1.000000  0.637681   \n",
       "\n",
       "   patient_code  head/neck  lower extremity  oral/genital  palms/soles  torso  \\\n",
       "0      0.000000          1                0             0            0      0   \n",
       "1      0.000487          0                0             0            0      0   \n",
       "2      0.000973          0                1             0            0      0   \n",
       "3      0.001460          1                0             0            0      0   \n",
       "4      0.001946          0                0             0            0      0   \n",
       "\n",
       "   upper extremity  \n",
       "0                0  \n",
       "1                1  \n",
       "2                0  \n",
       "3                0  \n",
       "4                1  "
      ]
     },
     "execution_count": 137,
     "metadata": {},
     "output_type": "execute_result"
    }
   ],
   "source": [
    "from sklearn import preprocessing\n",
    "\n",
    "scaler = preprocessing.MinMaxScaler()\n",
    "melanoma_records[['age_approx', 'tfrecord', 'width', 'height', 'patient_code']] = scaler.fit_transform(melanoma_records[['age_approx', 'tfrecord', 'width', 'height', 'patient_code']])\n",
    "\n",
    "melanoma_records.head()"
   ]
  },
  {
   "cell_type": "markdown",
   "id": "85953b9f",
   "metadata": {},
   "source": [
    "## Features and Labels"
   ]
  },
  {
   "cell_type": "markdown",
   "id": "48fba8e6",
   "metadata": {},
   "source": [
    "#### Based on the patient details, we need to predict the diagnosis\n",
    "\n",
    "#### So, features are the patient details and target labels are the diagnosis \n",
    "\n",
    "##### We are ignoring patient_code and target columns"
   ]
  },
  {
   "cell_type": "code",
   "execution_count": 138,
   "id": "646a7baa",
   "metadata": {},
   "outputs": [
    {
     "data": {
      "text/plain": [
       "{'feature_values': array([[0.        , 0.5       , 0.06666667, ..., 0.        , 0.        ,\n",
       "         0.        ],\n",
       "        [1.        , 0.5       , 0.06666667, ..., 0.        , 1.        ,\n",
       "         0.        ],\n",
       "        [1.        , 0.55555556, 0.46666667, ..., 0.        , 0.        ,\n",
       "         0.        ],\n",
       "        ...,\n",
       "        [0.        , 0.22222222, 0.26666667, ..., 0.        , 0.        ,\n",
       "         0.        ],\n",
       "        [0.        , 0.55555556, 0.8       , ..., 0.        , 0.        ,\n",
       "         0.        ],\n",
       "        [0.        , 0.5       , 0.33333333, ..., 1.        , 0.        ,\n",
       "         0.        ]]),\n",
       " 'feature_names': array(['sex', 'age_approx', 'tfrecord', 'width', 'height', 'head/neck',\n",
       "        'lower extremity', 'oral/genital', 'palms/soles', 'torso',\n",
       "        'upper extremity', 'benign_malignant'], dtype='<U16'),\n",
       " 'target': array([0, 0, 1, ..., 0, 0, 1]),\n",
       " 'target_labels': array(['unknown', 'nevus', 'melanoma', 'seborrheic keratosis',\n",
       "        'lentigo NOS', 'lichenoid keratosis', 'solar lentigo',\n",
       "        'cafe-au-lait macule', 'atypical melanocytic proliferation'],\n",
       "       dtype='<U34')}"
      ]
     },
     "execution_count": 138,
     "metadata": {},
     "output_type": "execute_result"
    }
   ],
   "source": [
    "data = np.array([list(melanoma_records['sex']), list(melanoma_records['age_approx']), list(melanoma_records['tfrecord']), \n",
    "                 list(melanoma_records['width']), list(melanoma_records['height']), list(melanoma_records['head/neck']), \n",
    "                 list(melanoma_records['lower extremity']), list(melanoma_records['oral/genital']), \n",
    "                 list(melanoma_records['palms/soles']), list(melanoma_records['torso']), \n",
    "                 list(melanoma_records['upper extremity']), list(melanoma_records['benign_malignant'])])\n",
    "\n",
    "data = np.transpose(data) # so each row contains values of all 12 features in 12 columns \n",
    "\n",
    "melanoma_dataset = {\n",
    "    'feature_values' : data,\n",
    "    \n",
    "    'feature_names' : np.array(['sex', 'age_approx', 'tfrecord', 'width', 'height', 'head/neck', 'lower extremity',\n",
    "                   'oral/genital', 'palms/soles', 'torso', 'upper extremity','benign_malignant']),\n",
    "        \n",
    "    'target': np.array(list(melanoma_records['diagnosis'])),\n",
    "    \n",
    "    'target_labels' : np.array(['unknown', 'nevus', 'melanoma', 'seborrheic keratosis','lentigo NOS', 'lichenoid keratosis',\n",
    "                    'solar lentigo', 'cafe-au-lait macule', 'atypical melanocytic proliferation'])\n",
    "}\n",
    "melanoma_dataset"
   ]
  },
  {
   "cell_type": "markdown",
   "id": "d3783176",
   "metadata": {},
   "source": [
    "# 2) Splitting data into train and test set"
   ]
  },
  {
   "cell_type": "code",
   "execution_count": 139,
   "id": "42ac3188",
   "metadata": {},
   "outputs": [],
   "source": [
    "from sklearn.model_selection import train_test_split\n",
    "from sklearn.metrics import accuracy_score\n",
    "\n",
    "X = melanoma_dataset['feature_values']\n",
    "y = melanoma_dataset['target']\n",
    "\n",
    "x_train, x_test, y_train, y_test = train_test_split(X, y, test_size=0.2, random_state=42)"
   ]
  },
  {
   "cell_type": "markdown",
   "id": "207a79fe",
   "metadata": {},
   "source": [
    "### Support Vector Classifier"
   ]
  },
  {
   "cell_type": "code",
   "execution_count": 140,
   "id": "a32ed78b",
   "metadata": {},
   "outputs": [
    {
     "name": "stdout",
     "output_type": "stream",
     "text": [
      "Training accuracy of the model is 0.84\n",
      "Testing accuracy of the model is 0.84\n"
     ]
    }
   ],
   "source": [
    "from sklearn.svm import SVC\n",
    "svc = SVC(kernel=\"linear\")\n",
    "svc.fit(x_train, y_train)\n",
    "print(\"Training accuracy of the model is {:.2f}\".format(svc.score(x_train, y_train)))\n",
    "print(\"Testing accuracy of the model is {:.2f}\".format(svc.score(x_test, y_test)))\n",
    "svm_accuracy_1 = svc.score(x_test, y_test)"
   ]
  },
  {
   "cell_type": "markdown",
   "id": "4e8aae6e",
   "metadata": {},
   "source": [
    "### Random Forest"
   ]
  },
  {
   "cell_type": "code",
   "execution_count": 141,
   "id": "db57a606",
   "metadata": {},
   "outputs": [
    {
     "name": "stdout",
     "output_type": "stream",
     "text": [
      "The Training accuracy of the model is 0.94\n",
      "The Testing accuracy of the model is 0.91\n"
     ]
    }
   ],
   "source": [
    "from sklearn.ensemble import RandomForestClassifier\n",
    "rfc = RandomForestClassifier(n_estimators=20)\n",
    "rfc.fit(x_train, y_train)\n",
    "\n",
    "print(\"The Training accuracy of the model is {:.2f}\".format(rfc.score(x_train, y_train)))\n",
    "print(\"The Testing accuracy of the model is {:.2f}\".format(rfc.score(x_test, y_test)))\n",
    "rf_accuracy_1 = rfc.score(x_test, y_test)"
   ]
  },
  {
   "cell_type": "markdown",
   "id": "270bd4e9",
   "metadata": {},
   "source": [
    "### Neural Network (MLPClassifier)"
   ]
  },
  {
   "cell_type": "code",
   "execution_count": 142,
   "id": "6e69414c",
   "metadata": {},
   "outputs": [
    {
     "name": "stdout",
     "output_type": "stream",
     "text": [
      "The Training accuracy of the model is 0.88\n",
      "The Testing accuracy of the model is 0.89\n"
     ]
    }
   ],
   "source": [
    "from sklearn.neural_network import MLPClassifier\n",
    "nnc=MLPClassifier(hidden_layer_sizes=(5), activation=\"relu\", max_iter=10000)\n",
    "nnc.fit(x_train, y_train)\n",
    "print(\"The Training accuracy of the model is {:.2f}\".format(nnc.score(x_train, y_train)))\n",
    "print(\"The Testing accuracy of the model is {:.2f}\".format(nnc.score(x_test, y_test)))\n",
    "nn_accuracy_1 = nnc.score(x_test, y_test)"
   ]
  },
  {
   "cell_type": "markdown",
   "id": "c3dcc7de",
   "metadata": {},
   "source": [
    "#  3) Dimensionality reduction using PCA"
   ]
  },
  {
   "cell_type": "code",
   "execution_count": 143,
   "id": "a4a3f858",
   "metadata": {},
   "outputs": [
    {
     "name": "stdout",
     "output_type": "stream",
     "text": [
      "[[ 0.13558115  0.25207902 -0.7189689   0.17293045  0.55295751  0.95961144]\n",
      " [ 0.43378629 -0.69996676 -0.36490838  0.82629502  0.4164039  -0.23177708]\n",
      " [ 0.93824008 -0.1382877   0.55487581 -0.3799951   0.05110063 -0.05735904]\n",
      " ...\n",
      " [ 0.77142638  0.74509826  0.16406035 -0.35283058  0.27178408 -0.12013266]\n",
      " [ 0.76572618  0.7688175   0.15895761 -0.34938697 -0.26292078 -0.05486997]\n",
      " [-0.57250247  0.58470529  0.3601364  -0.00346887  0.22133147 -0.05115306]]\n"
     ]
    }
   ],
   "source": [
    "from sklearn.decomposition import PCA \n",
    "\n",
    "pca = PCA(n_components=6) # Reducing the number of feature vectors into half \n",
    "reduced_features= pca.fit_transform(melanoma_dataset['feature_values'])\n",
    "print(reduced_features)"
   ]
  },
  {
   "cell_type": "code",
   "execution_count": 144,
   "id": "21c3e599",
   "metadata": {},
   "outputs": [
    {
     "data": {
      "text/plain": [
       "array([0.29595904, 0.20516619, 0.173716  , 0.14752338, 0.06912024,\n",
       "       0.05641599])"
      ]
     },
     "execution_count": 144,
     "metadata": {},
     "output_type": "execute_result"
    }
   ],
   "source": [
    "pca.explained_variance_ratio_"
   ]
  },
  {
   "cell_type": "code",
   "execution_count": 145,
   "id": "ab796f51",
   "metadata": {},
   "outputs": [
    {
     "data": {
      "text/plain": [
       "0.9479008431062573"
      ]
     },
     "execution_count": 145,
     "metadata": {},
     "output_type": "execute_result"
    }
   ],
   "source": [
    "sum(pca.explained_variance_ratio_)"
   ]
  },
  {
   "cell_type": "markdown",
   "id": "b2fb05eb",
   "metadata": {},
   "source": [
    "## Splitting reduced features data to test and train"
   ]
  },
  {
   "cell_type": "code",
   "execution_count": 146,
   "id": "b054fd99",
   "metadata": {},
   "outputs": [],
   "source": [
    "X = reduced_features\n",
    "y = melanoma_dataset['target']\n",
    "\n",
    "x_train, x_test, y_train, y_test = train_test_split(X, y, test_size=0.2, random_state=42)"
   ]
  },
  {
   "cell_type": "markdown",
   "id": "551b69b9",
   "metadata": {},
   "source": [
    "### Support Vector Classifier after reduction"
   ]
  },
  {
   "cell_type": "code",
   "execution_count": 147,
   "id": "1f1d068b",
   "metadata": {},
   "outputs": [
    {
     "name": "stdout",
     "output_type": "stream",
     "text": [
      "Training accuracy of the model is 0.82\n",
      "Testing accuracy of the model is 0.82\n"
     ]
    }
   ],
   "source": [
    "svc = SVC(kernel=\"linear\")\n",
    "svc.fit(x_train, y_train)\n",
    "print(\"Training accuracy of the model is {:.2f}\".format(svc.score(x_train, y_train)))\n",
    "print(\"Testing accuracy of the model is {:.2f}\".format(svc.score(x_test, y_test)))\n",
    "svm_accuracy_2 = svc.score(x_test, y_test)"
   ]
  },
  {
   "cell_type": "markdown",
   "id": "5ee01696",
   "metadata": {},
   "source": [
    "### Random Forest after reduction"
   ]
  },
  {
   "cell_type": "code",
   "execution_count": 148,
   "id": "6589c66d",
   "metadata": {},
   "outputs": [
    {
     "name": "stdout",
     "output_type": "stream",
     "text": [
      "The Training accuracy of the model is 0.94\n",
      "The Testing accuracy of the model is 0.91\n"
     ]
    }
   ],
   "source": [
    "rfc = RandomForestClassifier(n_estimators=10)\n",
    "rfc.fit(x_train, y_train)\n",
    "print(\"The Training accuracy of the model is {:.2f}\".format(rfc.score(x_train, y_train)))\n",
    "print(\"The Testing accuracy of the model is {:.2f}\".format(rfc.score(x_test, y_test)))\n",
    "rf_accuracy_2 = rfc.score(x_test, y_test)"
   ]
  },
  {
   "cell_type": "markdown",
   "id": "77f29639",
   "metadata": {},
   "source": [
    "### Neural Network (MLPClassifier) after reduction"
   ]
  },
  {
   "cell_type": "code",
   "execution_count": 149,
   "id": "5365218f",
   "metadata": {},
   "outputs": [
    {
     "name": "stdout",
     "output_type": "stream",
     "text": [
      "The Training accuracy of the model is 0.87\n",
      "The Testing accuracy of the model is 0.87\n"
     ]
    }
   ],
   "source": [
    "nnc=MLPClassifier(hidden_layer_sizes=(5), activation=\"relu\", max_iter=10000)\n",
    "nnc.fit(x_train, y_train)\n",
    "print(\"The Training accuracy of the model is {:.2f}\".format(nnc.score(x_train, y_train)))\n",
    "print(\"The Testing accuracy of the model is {:.2f}\".format(nnc.score(x_test, y_test)))\n",
    "nn_accuracy_2 = nnc.score(x_test, y_test)"
   ]
  },
  {
   "cell_type": "markdown",
   "id": "80bb9326",
   "metadata": {},
   "source": [
    "# 4) Comparing the accuracy in a bar chart"
   ]
  },
  {
   "cell_type": "code",
   "execution_count": 153,
   "id": "36c1ec0d",
   "metadata": {},
   "outputs": [
    {
     "data": {
      "image/png": "[encoded data removed]",
      "text/plain": [
       "<Figure size 432x288 with 1 Axes>"
      ]
     },
     "metadata": {
      "needs_background": "light"
     },
     "output_type": "display_data"
    }
   ],
   "source": [
    "import matplotlib.pyplot as plt\n",
    "\n",
    "# SVC Comparison\n",
    "\n",
    "fig = plt.figure()\n",
    "ax = fig.add_axes([0,0,1,1])\n",
    "prediction_structure = ['Before dimensionality reduction', 'After dimensionality reduction']\n",
    "accuracy_scores = [round(svm_accuracy_1*100,2), round(svm_accuracy_2*100,2)]\n",
    "ax.bar(prediction_structure, accuracy_scores, width = 0.5, align='center', color=['blue'])\n",
    "ax.set_ylabel('accuracy score')\n",
    "ax.set_xlabel('Support Vector Machine')\n",
    "for index,data in enumerate(accuracy_scores):\n",
    "    plt.text(x=index , y =data+1 , s=f\"{data}%\" , fontdict=dict(fontsize=10))\n",
    "plt.show()"
   ]
  },
  {
   "cell_type": "code",
   "execution_count": 154,
   "id": "1c5541f1",
   "metadata": {},
   "outputs": [
    {
     "data": {
      "image/png": "[encoded data removed]",
      "text/plain": [
       "<Figure size 432x288 with 1 Axes>"
      ]
     },
     "metadata": {
      "needs_background": "light"
     },
     "output_type": "display_data"
    }
   ],
   "source": [
    "# Random Forest Comparison\n",
    "\n",
    "fig = plt.figure()\n",
    "ax = fig.add_axes([0,0,1,1])\n",
    "prediction_structure = ['Before dimensionality reduction', 'After dimensionality reduction']\n",
    "accuracy_scores = [round(rf_accuracy_1*100,2), round(rf_accuracy_2*100,2)]\n",
    "ax.bar(prediction_structure, accuracy_scores, width = 0.5, align='center', color=['green'])\n",
    "ax.set_ylabel('accuracy score')\n",
    "ax.set_xlabel('Random Forest')\n",
    "for index,data in enumerate(accuracy_scores):\n",
    "    plt.text(x=index , y =data+1 , s=f\"{data}%\" , fontdict=dict(fontsize=10))\n",
    "plt.show()"
   ]
  },
  {
   "cell_type": "code",
   "execution_count": 155,
   "id": "f435cd0a",
   "metadata": {},
   "outputs": [
    {
     "data": {
      "image/png": "[encoded data removed]",
      "text/plain": [
       "<Figure size 432x288 with 1 Axes>"
      ]
     },
     "metadata": {
      "needs_background": "light"
     },
     "output_type": "display_data"
    }
   ],
   "source": [
    "# Neural Networks (MLP) Comparison\n",
    "\n",
    "fig = plt.figure()\n",
    "ax = fig.add_axes([0,0,1,1])\n",
    "prediction_structure = ['Before dimensionality reduction', 'After dimensionality reduction']\n",
    "accuracy_scores = [round(nn_accuracy_1*100,2), round(nn_accuracy_2*100,2)]\n",
    "ax.bar(prediction_structure, accuracy_scores, width = 0.5, align='center', color=['red'])\n",
    "ax.set_ylabel('accuracy score')\n",
    "ax.set_xlabel('Neural Networks')\n",
    "for index,data in enumerate(accuracy_scores):\n",
    "    plt.text(x=index , y =data+1 , s=f\"{data}%\" , fontdict=dict(fontsize=10))\n",
    "plt.show()"
   ]
  },
  {
   "cell_type": "markdown",
   "id": "61a3fcc3",
   "metadata": {},
   "source": [
    "#### We can observe that by reducing half the features, we have lost some valuable information, for which the accuracy score for all three models, SVM, RF, NN, have decreased."
   ]
  },
  {
   "cell_type": "code",
   "execution_count": null,
   "id": "2ae7cb19",
   "metadata": {},
   "outputs": [],
   "source": []
  }
 ],
 "metadata": {
  "kernelspec": {
   "display_name": "Python 3",
   "language": "python",
   "name": "python3"
  },
  "language_info": {
   "codemirror_mode": {
    "name": "ipython",
    "version": 3
   },
   "file_extension": ".py",
   "mimetype": "text/x-python",
   "name": "python",
   "nbconvert_exporter": "python",
   "pygments_lexer": "ipython3",
   "version": "3.8.8"
  }
 },
 "nbformat": 4,
 "nbformat_minor": 5
}
